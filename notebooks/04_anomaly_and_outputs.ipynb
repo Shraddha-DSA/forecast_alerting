{
 "cells": [
  {
   "cell_type": "code",
   "execution_count": 3,
   "id": "13bb126d",
   "metadata": {},
   "outputs": [
    {
     "name": "stdout",
     "output_type": "stream",
     "text": [
      "c:\\Users\\Shraddha\\OneDrive\\Desktop\\forecast_alerting\n"
     ]
    }
   ],
   "source": [
    "import os\n",
    "\n",
    "os.chdir(\"..\")  \n",
    "print(os.getcwd()) "
   ]
  },
  {
   "cell_type": "code",
   "execution_count": 1,
   "id": "47d3dba0",
   "metadata": {},
   "outputs": [
    {
     "name": "stdout",
     "output_type": "stream",
     "text": [
      "c:\\Users\\Shraddha\\OneDrive\\Desktop\\forecast_alerting\n"
     ]
    }
   ],
   "source": [
    "import sys, os\n",
    "\n",
    "sys.path.append(os.path.abspath(os.path.join(os.getcwd(), \"..\")))\n",
    "\n",
    "print(sys.path[-1]) "
   ]
  },
  {
   "cell_type": "code",
   "execution_count": 5,
   "id": "12c8cb3a",
   "metadata": {},
   "outputs": [
    {
     "name": "stdout",
     "output_type": "stream",
     "text": [
      "Anomalies saved in outputs/alerts.csv\n",
      "        date site_id  units_produced          metric  power_kwh\n",
      "0 2025-01-18      S1             0.0  units_produced        NaN\n",
      "1 2025-01-23      S1             0.0  units_produced        NaN\n",
      "2 2025-02-02      S1           948.0  units_produced        NaN\n",
      "3 2025-02-09      S1           983.0  units_produced        NaN\n",
      "4 2025-02-23      S1           929.0  units_produced        NaN\n"
     ]
    }
   ],
   "source": [
    "from src.loader import load_operations\n",
    "from src.anomaly import detect_anomalies\n",
    "import pandas as pd  \n",
    "\n",
    "ops_df = load_operations(\"365d\")\n",
    "\n",
    "\n",
    "alerts_units = detect_anomalies(ops_df, col=\"units_produced\")\n",
    "alerts_power = detect_anomalies(ops_df, col=\"power_kwh\")\n",
    "\n",
    "\n",
    "alerts = pd.concat([alerts_units, alerts_power], ignore_index=True)\n",
    "\n",
    "alerts.to_csv(\"outputs/alerts.csv\", index=False)\n",
    "\n",
    "print(\"Anomalies saved in outputs/alerts.csv\")\n",
    "print(alerts.head())"
   ]
  },
  {
   "cell_type": "code",
   "execution_count": null,
   "id": "c8d42643",
   "metadata": {},
   "outputs": [],
   "source": []
  }
 ],
 "metadata": {
  "kernelspec": {
   "display_name": ".venv",
   "language": "python",
   "name": "python3"
  },
  "language_info": {
   "codemirror_mode": {
    "name": "ipython",
    "version": 3
   },
   "file_extension": ".py",
   "mimetype": "text/x-python",
   "name": "python",
   "nbconvert_exporter": "python",
   "pygments_lexer": "ipython3",
   "version": "3.11.7"
  }
 },
 "nbformat": 4,
 "nbformat_minor": 5
}
