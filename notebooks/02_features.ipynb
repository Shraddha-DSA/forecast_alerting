{
 "cells": [
  {
   "cell_type": "code",
   "execution_count": 4,
   "id": "3a55ddb3",
   "metadata": {},
   "outputs": [
    {
     "name": "stdout",
     "output_type": "stream",
     "text": [
      "c:\\Users\\Shraddha\\OneDrive\\Desktop\\forecast_alerting\n"
     ]
    }
   ],
   "source": [
    "import sys, os\n",
    "\n",
    "sys.path.append(os.path.abspath(os.path.join(os.getcwd(), \"..\")))\n",
    "\n",
    "print(sys.path[-1]) \n"
   ]
  },
  {
   "cell_type": "code",
   "execution_count": 5,
   "id": "2a721980",
   "metadata": {},
   "outputs": [
    {
     "name": "stdout",
     "output_type": "stream",
     "text": [
      "Feature dataset shape: (1432, 20)\n",
      "        date site_id  units_produced  downtime_minutes  power_kwh  \\\n",
      "0 2025-01-08      S1            1289                60       4274   \n",
      "1 2025-01-09      S1            1393                42       4394   \n",
      "2 2025-01-10      S1            1230                72       4133   \n",
      "3 2025-01-11      S1            1168                76       3999   \n",
      "4 2025-01-12      S1            1104               293       5798   \n",
      "\n",
      "   rework_units  defects_ppm  staff_count  material_cost_per_unit  \\\n",
      "0            39          509           58                   72.42   \n",
      "1            33          596           54                   71.97   \n",
      "2            31          478           54                   72.29   \n",
      "3            19          464           52                   72.27   \n",
      "4            29          501           51                   72.11   \n",
      "\n",
      "   price_per_unit  temperature_c  rainfall_mm  holiday_flag  dayofweek  month  \\\n",
      "0           96.07           22.3          0.0             0          2      1   \n",
      "1           95.91           20.9          0.0             0          3      1   \n",
      "2           95.99           23.2          0.0             0          4      1   \n",
      "3           95.82           20.9          0.0             0          5      1   \n",
      "4           96.09           22.5          0.0             0          6      1   \n",
      "\n",
      "   is_weekend  units_lag1  power_lag1  units_roll7  power_roll7  \n",
      "0           0      1305.0      4338.0  1101.714286  3884.571429  \n",
      "1           0      1289.0      4274.0  1103.000000  3893.571429  \n",
      "2           0      1393.0      4394.0  1123.571429  3739.714286  \n",
      "3           1      1230.0      4133.0  1133.142857  3733.285714  \n",
      "4           1      1168.0      3999.0  1107.428571  3654.000000  \n"
     ]
    }
   ],
   "source": [
    "from src.loader import load_operations\n",
    "from src.features import create_features\n",
    "\n",
    "ops_df = load_operations(\"365d\")\n",
    "\n",
    "df_features = create_features(ops_df)\n",
    "\n",
    "print(\"Feature dataset shape:\", df_features.shape)\n",
    "print(df_features.head())"
   ]
  },
  {
   "cell_type": "code",
   "execution_count": null,
   "id": "768b5765",
   "metadata": {},
   "outputs": [],
   "source": []
  }
 ],
 "metadata": {
  "kernelspec": {
   "display_name": ".venv",
   "language": "python",
   "name": "python3"
  },
  "language_info": {
   "codemirror_mode": {
    "name": "ipython",
    "version": 3
   },
   "file_extension": ".py",
   "mimetype": "text/x-python",
   "name": "python",
   "nbconvert_exporter": "python",
   "pygments_lexer": "ipython3",
   "version": "3.11.7"
  }
 },
 "nbformat": 4,
 "nbformat_minor": 5
}
