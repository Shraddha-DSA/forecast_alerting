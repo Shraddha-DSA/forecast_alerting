{
 "cells": [
  {
   "cell_type": "code",
   "execution_count": 6,
   "id": "169e8838",
   "metadata": {},
   "outputs": [
    {
     "name": "stdout",
     "output_type": "stream",
     "text": [
      "c:\\Users\\Shraddha\\OneDrive\\Desktop\\forecast_alerting\n"
     ]
    }
   ],
   "source": [
    "import os\n",
    "\n",
    "os.chdir(\"..\")  \n",
    "print(os.getcwd()) "
   ]
  },
  {
   "cell_type": "code",
   "execution_count": 2,
   "id": "9745f53a",
   "metadata": {},
   "outputs": [
    {
     "name": "stdout",
     "output_type": "stream",
     "text": [
      "c:\\Users\\Shraddha\\OneDrive\\Desktop\\forecast_alerting\n"
     ]
    }
   ],
   "source": [
    "import sys, os\n",
    "\n",
    "sys.path.append(os.path.abspath(os.path.join(os.getcwd(), \"..\")))\n",
    "\n",
    "print(sys.path[-1]) "
   ]
  },
  {
   "cell_type": "code",
   "execution_count": 7,
   "id": "98045aae",
   "metadata": {},
   "outputs": [
    {
     "name": "stdout",
     "output_type": "stream",
     "text": [
      "  site_id          target  mae_baseline  mape_baseline     mae_xgb  mape_xgb\n",
      "0      S1  units_produced     56.206700       0.043855   72.510338  0.056946\n",
      "1      S2  units_produced     94.945408       0.059198  114.700417  0.073473\n",
      "2      S3  units_produced     48.128606       0.045970   71.261368  0.063141\n",
      "3      S4  units_produced     64.165289       0.046909  102.505867  0.072452\n",
      "  site_id     target  mae_baseline  mape_baseline     mae_xgb  mape_xgb\n",
      "0      S1  power_kwh    301.876202       0.071505  251.656448  0.058624\n",
      "1      S2  power_kwh    334.001666       0.065506  418.597168  0.083178\n",
      "2      S3  power_kwh    170.428488       0.043458  241.380142  0.057450\n",
      "3      S4  power_kwh    229.001434       0.050343  213.632416  0.044658\n",
      "Forecasts saved in outputs/\n"
     ]
    }
   ],
   "source": [
    "\n",
    "\n",
    "from src.loader import load_operations\n",
    "from src.features import create_features\n",
    "from src.models import train_and_forecast\n",
    "\n",
    "ops_df = load_operations(\"365d\")\n",
    "df = create_features(ops_df)\n",
    "\n",
    "metrics_units, forecast_units = train_and_forecast(df, target=\"units_produced\", horizon=14)\n",
    "print(metrics_units)\n",
    "\n",
    "metrics_power, forecast_power = train_and_forecast(df, target=\"power_kwh\", horizon=14)\n",
    "print(metrics_power)\n",
    "\n",
    "forecast_units.to_csv(\"outputs/forecast_units.csv\", index=False)\n",
    "forecast_power.to_csv(\"outputs/forecast_power.csv\", index=False)\n",
    "\n",
    "print(\"Forecasts saved in outputs/\")"
   ]
  },
  {
   "cell_type": "code",
   "execution_count": 5,
   "id": "a1021717",
   "metadata": {},
   "outputs": [
    {
     "name": "stdout",
     "output_type": "stream",
     "text": [
      "c:\\Users\\Shraddha\\OneDrive\\Desktop\\forecast_alerting\\notebooks\n"
     ]
    }
   ],
   "source": [
    "import os\n",
    "print(os.getcwd())\n"
   ]
  },
  {
   "cell_type": "code",
   "execution_count": null,
   "id": "629f344f",
   "metadata": {},
   "outputs": [],
   "source": []
  }
 ],
 "metadata": {
  "kernelspec": {
   "display_name": "Python 3",
   "language": "python",
   "name": "python3"
  },
  "language_info": {
   "codemirror_mode": {
    "name": "ipython",
    "version": 3
   },
   "file_extension": ".py",
   "mimetype": "text/x-python",
   "name": "python",
   "nbconvert_exporter": "python",
   "pygments_lexer": "ipython3",
   "version": "3.11.7"
  }
 },
 "nbformat": 4,
 "nbformat_minor": 5
}
